{
  "nbformat": 4,
  "nbformat_minor": 0,
  "metadata": {
    "colab": {
      "name": "Traffic_Sign_Classifier.ipynb",
      "version": "0.3.2",
      "provenance": [],
      "include_colab_link": true
    },
    "language_info": {
      "codemirror_mode": {
        "name": "ipython",
        "version": 3
      },
      "file_extension": ".py",
      "mimetype": "text/x-python",
      "name": "python",
      "nbconvert_exporter": "python",
      "pygments_lexer": "ipython3",
      "version": "3.5.2"
    },
    "kernelspec": {
      "name": "python3",
      "display_name": "Python 3"
    },
    "accelerator": "GPU"
  },
  "cells": [
    {
      "cell_type": "markdown",
      "metadata": {
        "id": "view-in-github",
        "colab_type": "text"
      },
      "source": [
        "<a href=\"https://colab.research.google.com/github/bessszilard/Udacity-Self-Driving-Car-Engineer-Nanodegree-Program/blob/master/Project-3-Traffic-Sign-Classifier/Traffic_Sign_Classifier.ipynb\" target=\"_parent\"><img src=\"https://colab.research.google.com/assets/colab-badge.svg\" alt=\"Open In Colab\"/></a>"
      ]
    },
    {
      "cell_type": "markdown",
      "metadata": {
        "id": "uHMA1T79kEHO",
        "colab_type": "text"
      },
      "source": [
        "# Self-Driving Car Engineer Nanodegree\n",
        "\n",
        "## Deep Learning\n",
        "\n",
        "## Project: Build a Traffic Sign Recognition Classifier\n",
        "\n",
        "In this notebook, a template is provided for you to implement your functionality in stages, which is required to successfully complete this project. If additional code is required that cannot be included in the notebook, be sure that the Python code is successfully imported and included in your submission if necessary. \n",
        "\n",
        "> **Note**: Once you have completed all of the code implementations, you need to finalize your work by exporting the iPython Notebook as an HTML document. Before exporting the notebook to html, all of the code cells need to have been run so that reviewers can see the final implementation and output. You can then export the notebook by using the menu above and navigating to  \\n\",\n",
        "    \"**File -> Download as -> HTML (.html)**. Include the finished document along with this notebook as your submission. \n",
        "\n",
        "In addition to implementing code, there is a writeup to complete. The writeup should be completed in a separate file, which can be either a markdown file or a pdf document. There is a [write up template](https://github.com/udacity/CarND-Traffic-Sign-Classifier-Project/blob/master/writeup_template.md) that can be used to guide the writing process. Completing the code template and writeup template will cover all of the [rubric points](https://review.udacity.com/#!/rubrics/481/view) for this project.\n",
        "\n",
        "The [rubric](https://review.udacity.com/#!/rubrics/481/view) contains \"Stand Out Suggestions\" for enhancing the project beyond the minimum requirements. The stand out suggestions are optional. If you decide to pursue the \"stand out suggestions\", you can include the code in this Ipython notebook and also discuss the results in the writeup file.\n",
        "\n",
        "\n",
        ">**Note:** Code and Markdown cells can be executed using the **Shift + Enter** keyboard shortcut. In addition, Markdown cells can be edited by typically double-clicking the cell to enter edit mode."
      ]
    },
    {
      "cell_type": "code",
      "metadata": {
        "id": "whabu3M1qJtc",
        "colab_type": "code",
        "outputId": "4d19b1a8-76f0-487a-f204-2ea05345f2c5",
        "colab": {
          "base_uri": "https://localhost:8080/",
          "height": 36
        }
      },
      "source": [
        "!git clone https://bitbucket.org/jadslim/german-traffic-signs"
      ],
      "execution_count": 1,
      "outputs": [
        {
          "output_type": "stream",
          "text": [
            "fatal: destination path 'german-traffic-signs' already exists and is not an empty directory.\n"
          ],
          "name": "stdout"
        }
      ]
    },
    {
      "cell_type": "code",
      "metadata": {
        "id": "heh3SOwqqLEK",
        "colab_type": "code",
        "outputId": "3bd332a9-b797-4646-b834-11697ada3952",
        "colab": {
          "base_uri": "https://localhost:8080/",
          "height": 55
        }
      },
      "source": [
        "!ls german-traffic-signs\n",
        "!pwd"
      ],
      "execution_count": 2,
      "outputs": [
        {
          "output_type": "stream",
          "text": [
            "signnames.csv  test.p  train.p\tvalid.p\n",
            "/content\n"
          ],
          "name": "stdout"
        }
      ]
    },
    {
      "cell_type": "code",
      "metadata": {
        "id": "o0ZPDuCtkEHZ",
        "colab_type": "code",
        "outputId": "a8595eac-5f2a-4e21-c21d-80ef4b70a40b",
        "colab": {
          "base_uri": "https://localhost:8080/",
          "height": 92
        }
      },
      "source": [
        "# Load pickled data\n",
        "import pickle\n",
        "import pandas as pd\n",
        "\n",
        "training_file = 'german-traffic-signs/train.p'\n",
        "validation_file='german-traffic-signs/valid.p'\n",
        "testing_file = 'german-traffic-signs/test.p'\n",
        "class_labels = pd.read_csv('german-traffic-signs/signnames.csv')\n",
        "\n",
        "with open(training_file, mode='rb') as f:\n",
        "    train = pickle.load(f)\n",
        "with open(validation_file, mode='rb') as f:\n",
        "    valid = pickle.load(f)\n",
        "with open(testing_file, mode='rb') as f:\n",
        "    test = pickle.load(f)\n",
        "    \n",
        "X_train, y_train = train['features'], train['labels']\n",
        "X_valid, y_valid = valid['features'], valid['labels']\n",
        "X_test, y_test = test['features'], test['labels']\n",
        "\n",
        "print(X_train.shape)\n",
        "print(y_train.shape)\n",
        "print(X_valid.shape[0])\n",
        "print(X_test.shape[0])"
      ],
      "execution_count": 3,
      "outputs": [
        {
          "output_type": "stream",
          "text": [
            "(34799, 32, 32, 3)\n",
            "(34799,)\n",
            "4410\n",
            "12630\n"
          ],
          "name": "stdout"
        }
      ]
    },
    {
      "cell_type": "code",
      "metadata": {
        "id": "RS7amnKDtLPB",
        "colab_type": "code",
        "outputId": "e8c39c0c-e785-4bea-9072-a8b25b903475",
        "colab": {
          "base_uri": "https://localhost:8080/",
          "height": 861
        }
      },
      "source": [
        "from sklearn.model_selection import train_test_split\n",
        "# X_train, X_valid, y_train, y_valid = train_test_split(X_train, y_train, test_size = 0.2, random_state=1)\n",
        "# X_train, X_valid, y_train, y_valid = train_test_split(X_train, y_train, test_size=0.2, shuffle=False, random_state=0)\n",
        "print(\"Updated Image Shape: {}\".format(X_train[0].shape))\n",
        "\n",
        "print(class_labels)"
      ],
      "execution_count": 4,
      "outputs": [
        {
          "output_type": "stream",
          "text": [
            "Updated Image Shape: (32, 32, 3)\n",
            "    ClassId                                           SignName\n",
            "0         0                               Speed limit (20km/h)\n",
            "1         1                               Speed limit (30km/h)\n",
            "2         2                               Speed limit (50km/h)\n",
            "3         3                               Speed limit (60km/h)\n",
            "4         4                               Speed limit (70km/h)\n",
            "5         5                               Speed limit (80km/h)\n",
            "6         6                        End of speed limit (80km/h)\n",
            "7         7                              Speed limit (100km/h)\n",
            "8         8                              Speed limit (120km/h)\n",
            "9         9                                         No passing\n",
            "10       10       No passing for vechiles over 3.5 metric tons\n",
            "11       11              Right-of-way at the next intersection\n",
            "12       12                                      Priority road\n",
            "13       13                                              Yield\n",
            "14       14                                               Stop\n",
            "15       15                                        No vechiles\n",
            "16       16           Vechiles over 3.5 metric tons prohibited\n",
            "17       17                                           No entry\n",
            "18       18                                    General caution\n",
            "19       19                        Dangerous curve to the left\n",
            "20       20                       Dangerous curve to the right\n",
            "21       21                                       Double curve\n",
            "22       22                                         Bumpy road\n",
            "23       23                                      Slippery road\n",
            "24       24                          Road narrows on the right\n",
            "25       25                                          Road work\n",
            "26       26                                    Traffic signals\n",
            "27       27                                        Pedestrians\n",
            "28       28                                  Children crossing\n",
            "29       29                                  Bicycles crossing\n",
            "30       30                                 Beware of ice/snow\n",
            "31       31                              Wild animals crossing\n",
            "32       32                End of all speed and passing limits\n",
            "33       33                                   Turn right ahead\n",
            "34       34                                    Turn left ahead\n",
            "35       35                                         Ahead only\n",
            "36       36                               Go straight or right\n",
            "37       37                                Go straight or left\n",
            "38       38                                         Keep right\n",
            "39       39                                          Keep left\n",
            "40       40                               Roundabout mandatory\n",
            "41       41                                  End of no passing\n",
            "42       42  End of no passing by vechiles over 3.5 metric ...\n"
          ],
          "name": "stdout"
        }
      ]
    },
    {
      "cell_type": "markdown",
      "metadata": {
        "id": "ExqLKcuXkEHW",
        "colab_type": "text"
      },
      "source": [
        "---\n",
        "## Step 0: Load The Data"
      ]
    },
    {
      "cell_type": "markdown",
      "metadata": {
        "id": "q6z2EzBNkEHo",
        "colab_type": "text"
      },
      "source": [
        "---\n",
        "\n",
        "## Step 1: Dataset Summary & Exploration\n",
        "\n",
        "The pickled data is a dictionary with 4 key/value pairs:\n",
        "\n",
        "- `'features'` is a 4D array containing raw pixel data of the traffic sign images, (num examples, width, height, channels).\n",
        "- `'labels'` is a 1D array containing the label/class id of the traffic sign. The file `signnames.csv` contains id -> name mappings for each id.\n",
        "- `'sizes'` is a list containing tuples, (width, height) representing the original width and height the image.\n",
        "- `'coords'` is a list containing tuples, (x1, y1, x2, y2) representing coordinates of a bounding box around the sign in the image. **THESE COORDINATES ASSUME THE ORIGINAL IMAGE. THE PICKLED DATA CONTAINS RESIZED VERSIONS (32 by 32) OF THESE IMAGES**\n",
        "\n",
        "Complete the basic data summary below. Use python, numpy and/or pandas methods to calculate the data summary rather than hard coding the results. For example, the [pandas shape method](http://pandas.pydata.org/pandas-docs/stable/generated/pandas.DataFrame.shape.html) might be useful for calculating some of the summary results. "
      ]
    },
    {
      "cell_type": "markdown",
      "metadata": {
        "id": "Zl1-kTXRkEHt",
        "colab_type": "text"
      },
      "source": [
        "### Provide a Basic Summary of the Data Set Using Python, Numpy and/or Pandas"
      ]
    },
    {
      "cell_type": "code",
      "metadata": {
        "id": "xlohlH0OkEHx",
        "colab_type": "code",
        "outputId": "9dd7ab51-58e5-4b01-cbda-0193bf26081f",
        "colab": {
          "base_uri": "https://localhost:8080/",
          "height": 92
        }
      },
      "source": [
        "### Replace each question mark with the appropriate value. \n",
        "### Use python, pandas or numpy methods rather than hard coding the results\n",
        "\n",
        "# TODO: Number of training examples\n",
        "n_train = X_train.shape[0]\n",
        "\n",
        "# TODO: Number of validation examples\n",
        "n_validation = X_valid.shape[0]\n",
        "\n",
        "# TODO: Number of testing examples.\n",
        "n_test = X_test.shape[0]\n",
        "\n",
        "# TODO: What's the shape of an traffic sign image?\n",
        "image_shape = X_train[0].shape\n",
        "\n",
        "# TODO: How many unique classes/labels there are in the dataset.\n",
        "n_classes = len(class_labels)\n",
        "\n",
        "print(\"Number of training examples =\", n_train)\n",
        "print(\"Number of testing examples =\", n_test)\n",
        "print(\"Image data shape =\", image_shape)\n",
        "print(\"Number of classes =\", n_classes)"
      ],
      "execution_count": 5,
      "outputs": [
        {
          "output_type": "stream",
          "text": [
            "Number of training examples = 34799\n",
            "Number of testing examples = 12630\n",
            "Image data shape = (32, 32, 3)\n",
            "Number of classes = 43\n"
          ],
          "name": "stdout"
        }
      ]
    },
    {
      "cell_type": "markdown",
      "metadata": {
        "id": "Y6FE9a3ikEH8",
        "colab_type": "text"
      },
      "source": [
        "### Include an exploratory visualization of the dataset"
      ]
    },
    {
      "cell_type": "markdown",
      "metadata": {
        "id": "YicPZWOZkEH_",
        "colab_type": "text"
      },
      "source": [
        "Visualize the German Traffic Signs Dataset using the pickled file(s). This is open ended, suggestions include: plotting traffic sign images, plotting the count of each sign, etc. \n",
        "\n",
        "The [Matplotlib](http://matplotlib.org/) [examples](http://matplotlib.org/examples/index.html) and [gallery](http://matplotlib.org/gallery.html) pages are a great resource for doing visualizations in Python.\n",
        "\n",
        "**NOTE:** It's recommended you start with something simple first. If you wish to do more, come back to it after you've completed the rest of the sections. It can be interesting to look at the distribution of classes in the training, validation and test set. Is the distribution the same? Are there more examples of some classes than others?"
      ]
    },
    {
      "cell_type": "code",
      "metadata": {
        "id": "vVjtqWJlkEIC",
        "colab_type": "code",
        "colab": {}
      },
      "source": [
        "### Data exploration visualization code goes here.\n",
        "### Feel free to use as many code cells as needed.\n",
        "import matplotlib.pyplot as plt\n",
        "from random import randint\n",
        "# Visualizations will be shown in the notebook.\n",
        "%matplotlib inline\n",
        "\n",
        "# print(\"Image dimensions: \", X_train[0].shape)\n",
        "\n",
        "# cols = 10\n",
        "# f, ax = plt.subplots(n_classes, cols, figsize=(10, 60))\n",
        "# class_elements = []\n",
        "# for i in range(n_classes):\n",
        "#     x_current_class = X_train[y_train == i]\n",
        "#     random_indexes = [randint(0, len(x_current_class)-1) for p in range(0, cols)]\n",
        "#     for j in range(cols):\n",
        "#         ax[i][j].imshow( x_current_class[random_indexes[j]] )\n",
        "#         ax[i][j].axis('off')\n",
        "#         if j == cols // 2:\n",
        "#             temp_title = \"%d %s\" % (i, class_labels['SignName'][i])\n",
        "#             ax[i][j].set_title(temp_title)\n",
        "#     class_elements.append(len(x_current_class))"
      ],
      "execution_count": 0,
      "outputs": []
    },
    {
      "cell_type": "code",
      "metadata": {
        "id": "fANvX0HTx9Lh",
        "colab_type": "code",
        "colab": {}
      },
      "source": [
        "# y_pos = np.arange(len(objects))\n",
        "# plt.bar(range(0, n_classes), class_elements)\n",
        "\n",
        "import matplotlib.pyplot as plt; plt.rcdefaults()\n",
        "import numpy as np\n",
        "import matplotlib.pyplot as plt\n",
        "\n",
        "# y_pos = np.arange(len(class_elements))\n",
        "# plt.bar(y_pos, class_elements, align='center')\n",
        "# plt.xlabel('Class labels')\n",
        "# plt.ylabel('Piece')\n",
        "# plt.title('Image class distribution')\n",
        "\n",
        "# plt.show()\n",
        "# # print(y_pos)"
      ],
      "execution_count": 0,
      "outputs": []
    },
    {
      "cell_type": "markdown",
      "metadata": {
        "id": "37qnT08skEIJ",
        "colab_type": "text"
      },
      "source": [
        "----\n",
        "\n",
        "## Step 2: Design and Test a Model Architecture\n",
        "\n",
        "Design and implement a deep learning model that learns to recognize traffic signs. Train and test your model on the [German Traffic Sign Dataset](http://benchmark.ini.rub.de/?section=gtsrb&subsection=dataset).\n",
        "\n",
        "The LeNet-5 implementation shown in the [classroom](https://classroom.udacity.com/nanodegrees/nd013/parts/fbf77062-5703-404e-b60c-95b78b2f3f9e/modules/6df7ae49-c61c-4bb2-a23e-6527e69209ec/lessons/601ae704-1035-4287-8b11-e2c2716217ad/concepts/d4aca031-508f-4e0b-b493-e7b706120f81) at the end of the CNN lesson is a solid starting point. You'll have to change the number of classes and possibly the preprocessing, but aside from that it's plug and play! \n",
        "\n",
        "With the LeNet-5 solution from the lecture, you should expect a validation set accuracy of about 0.89. To meet specifications, the validation set accuracy will need to be at least 0.93. It is possible to get an even higher accuracy, but 0.93 is the minimum for a successful project submission. \n",
        "\n",
        "There are various aspects to consider when thinking about this problem:\n",
        "\n",
        "- Neural network architecture (is the network over or underfitting?)\n",
        "- Play around preprocessing techniques (normalization, rgb to grayscale, etc)\n",
        "- Number of examples per label (some have more than others).\n",
        "- Generate fake data.\n",
        "\n",
        "Here is an example of a [published baseline model on this problem](http://yann.lecun.com/exdb/publis/pdf/sermanet-ijcnn-11.pdf). It's not required to be familiar with the approach used in the paper but, it's good practice to try to read papers like these."
      ]
    },
    {
      "cell_type": "markdown",
      "metadata": {
        "id": "K_DQPea5kEIN",
        "colab_type": "text"
      },
      "source": [
        "### Pre-process the Data Set (normalization, grayscale, etc.)"
      ]
    },
    {
      "cell_type": "markdown",
      "metadata": {
        "id": "psvt3RVbkEIQ",
        "colab_type": "text"
      },
      "source": [
        "Minimally, the image data should be normalized so that the data has mean zero and equal variance. For image data, `(pixel - 128)/ 128` is a quick way to approximately normalize the data and can be used in this project. \n",
        "\n",
        "Other pre-processing steps are optional. You can try different techniques to see if it improves performance. \n",
        "\n",
        "Use the code cell (or multiple code cells, if necessary) to implement the first step of your project."
      ]
    },
    {
      "cell_type": "code",
      "metadata": {
        "id": "X_9mlZzKkEIS",
        "colab_type": "code",
        "colab": {}
      },
      "source": [
        "import cv2\n",
        "### Preprocess the data here. It is required to normalize the data. Other preprocessing steps could include \n",
        "### converting to grayscale, etc.\n",
        "### Feel free to use as many code cells as needed.\n",
        "\n",
        "# def preprocess_image(image):\n",
        "# #     image = cv2.cvtColor(image, cv2.COLOR_BGR2GRAY)\n",
        "# #     image = cv2.resize(image, (32, 32))\n",
        "# #     image = cv2.equalizeHist(image)\n",
        "#     image[:, :, 0] = cv2.equalizeHist(image[:, :, 0])\n",
        "#     image[:, :, 1] = cv2.equalizeHist(image[:, :, 1])\n",
        "#     image[:, :, 2] = cv2.equalizeHist(image[:, :, 2])\n",
        "    \n",
        "#     image = image / 255 - 0.5\n",
        "#     return image\n",
        "# rows = 4\n",
        "# f, ax = plt.subplots(rows, 2, figsize=(5, 10))\n",
        "# for i in range(rows):\n",
        "#     image = X_train[randint(0, len(X_train))]\n",
        "#     ax[i][0].imshow(image, cmap='gray')\n",
        "#     ax[i][0].axis('off')\n",
        "#     ax[i][1].imshow(preprocess_image(image), cmap='gray')\n",
        "#     ax[i][1].axis('off')\n",
        "    \n",
        "#     if i == 0:\n",
        "#         ax[i][0].set_title('Normal image')\n",
        "#         ax[i][1].set_title('Preprocessed image')"
      ],
      "execution_count": 0,
      "outputs": []
    },
    {
      "cell_type": "markdown",
      "metadata": {
        "id": "1LWjZWD1kEIb",
        "colab_type": "text"
      },
      "source": [
        "### Model Architecture"
      ]
    },
    {
      "cell_type": "code",
      "metadata": {
        "id": "vJFYfBIukEIh",
        "colab_type": "code",
        "colab": {}
      },
      "source": [
        "### Define your architecture here.\n",
        "### Feel free to use as many code cells as needed.\n",
        "from sklearn.utils import shuffle\n",
        "import tensorflow as tf\n",
        "from tensorflow.contrib.layers import flatten\n",
        "\n",
        "\n",
        "def LeNet(x, keep_prob):    \n",
        "    # Arguments used for tf.truncated_normal, randomly defines variables for the weights and biases for each layer\n",
        "    mu = 0\n",
        "    sigma = 0.1\n",
        "    img_depth = int(x.shape[3])\n",
        "#     print(keep_prob)\n",
        "    \n",
        "    weights = {\n",
        "        'wc1': tf.Variable(tf.random_normal(shape=[5, 5, img_depth, 60], mean = mu, stddev = sigma)),   # (height, width, input_depth, output_depth)\n",
        "        'wc2': tf.Variable(tf.random_normal(shape=[5, 5, 60, 60], mean = mu, stddev = sigma )),         # (height, width, input_depth, output_depth)\n",
        "        'wf1': tf.Variable(tf.random_normal(shape=[1500, 120], mean = mu, stddev = sigma)),\n",
        "        'wf2': tf.Variable(tf.random_normal(shape=[120, 84], mean = mu, stddev = sigma)),\n",
        "        'out': tf.Variable(tf.random_normal(shape=[84, n_classes], mean = mu, stddev = sigma)),\n",
        "    }\n",
        "    biases = {\n",
        "        'bc1': tf.Variable(tf.zeros([60])),\n",
        "        'bc2': tf.Variable(tf.zeros([60])),\n",
        "        'bf1': tf.Variable(tf.zeros([120])),\n",
        "        'bf2': tf.Variable(tf.zeros([84])),\n",
        "        'out': tf.Variable(tf.zeros([n_classes]))\n",
        "    }\n",
        "    \n",
        "    # Layer 1: Convolutional. Input = 32x32x1. Output = 28x28x6.\n",
        "    conv_layer1 = tf.nn.conv2d(x, weights['wc1'], strides=[1, 1, 1, 1], padding='VALID')\n",
        "    conv_layer1 = tf.add(conv_layer1, biases['bc1'])\n",
        "    # Activation.\n",
        "    conv_layer1 = tf.nn.relu(conv_layer1)\n",
        "    # Pooling. Input = 28x28x6. Output = 14x14x6.\n",
        "    conv_layer1 = tf.nn.max_pool(conv_layer1, ksize=[1, 2, 2, 1], strides=[1, 2, 2, 1], padding='VALID')\n",
        "\n",
        "    # Layer 2: Convolutional. Input = 14x14x6. Output = 10x10x16.\n",
        "    conv_layer2 = tf.nn.conv2d(conv_layer1, weights['wc2'], strides=[1, 1, 1, 1], padding='VALID')\n",
        "    conv_layer2 = tf.add(conv_layer2, biases['bc2'])\n",
        "    # Activation.\n",
        "    conv_layer2 = tf.nn.relu(conv_layer2)\n",
        "    \n",
        "    # Pooling. Input = 10x10x16. Output = 5x5x16.\n",
        "    conv_layer2 = tf.nn.max_pool(conv_layer2, ksize=[1, 2, 2, 1], strides=[1, 2, 2, 1], padding='VALID')\n",
        "    \n",
        "    # Flatten. Input = 5x5x16. Output = 400.\n",
        "    fc0 = flatten(conv_layer2)\n",
        "    fc0 = tf.nn.dropout(fc0, keep_prob)\n",
        "        \n",
        "    # Layer 3: Fully Connected. Input = 400. Output = 120.\n",
        "    fc1 = tf.matmul(fc0, weights['wf1']) + biases['bf1']\n",
        "    # Activation.\n",
        "    fc1 = tf.nn.relu(fc1)\n",
        "    fc1 = tf.nn.dropout(fc1, keep_prob)\n",
        "    \n",
        "    # Layer 4: Fully Connected. Input = 120. Output = 84.\n",
        "    fc2 = tf.matmul(fc1, weights['wf2']) + biases['bf2']\n",
        "    \n",
        "    # Activation.\n",
        "    fc2 = tf.nn.relu(fc2)\n",
        "    fc2 = tf.nn.dropout(fc2, keep_prob)\n",
        "    \n",
        "    # Layer 5: Fully Connected. Input = 84. Output = n_class.\n",
        "    logits = tf.matmul(fc2, weights['out']) + biases['out']\n",
        "    return logits\n",
        "\n",
        "# x = tf.placeholder(tf.float32, (None, 32, 32, 3))\n",
        "# logits = LeNet(x, 0.7)"
      ],
      "execution_count": 0,
      "outputs": []
    },
    {
      "cell_type": "code",
      "metadata": {
        "id": "CzOY7pb3BhWw",
        "colab_type": "code",
        "colab": {}
      },
      "source": [
        "x = tf.placeholder(tf.float32, (None, 32, 32, 1))\n",
        "y = tf.placeholder(tf.int32, (None))\n",
        "keep_prob = tf.placeholder_with_default(1.0, shape=())\n",
        "\n",
        "one_hot_y = tf.one_hot(y, n_classes)"
      ],
      "execution_count": 0,
      "outputs": []
    },
    {
      "cell_type": "markdown",
      "metadata": {
        "id": "j-2a1760kEIo",
        "colab_type": "text"
      },
      "source": [
        "### Train, Validate and Test the Model"
      ]
    },
    {
      "cell_type": "markdown",
      "metadata": {
        "id": "fqAHPsqOkEIq",
        "colab_type": "text"
      },
      "source": [
        "A validation set can be used to assess how well the model is performing. A low accuracy on the training and validation\n",
        "sets imply underfitting. A high accuracy on the training set but low accuracy on the validation set implies overfitting."
      ]
    },
    {
      "cell_type": "code",
      "metadata": {
        "id": "CbsJkaH0kEIt",
        "colab_type": "code",
        "colab": {}
      },
      "source": [
        "### Train your model here.\n",
        "### Calculate and report the accuracy on the training and validation set.\n",
        "### Once a final model architecture is selected, \n",
        "### the accuracy on the test set should be calculated and reported as well.\n",
        "### Feel free to use as many code cells as needed.\n",
        "\n",
        "from imgaug import augmenters as iaa\n",
        "\n",
        "def sharpen(image):\n",
        "    sharp = iaa.Sharpen(alpha=(0.0, 1.0), lightness=(0.75, 2.0))\n",
        "    image = sharp.augment_image(image)\n",
        "    return image\n",
        "    \n",
        "def zoom(image):\n",
        "    zoom = iaa.Affine(scale = (1, 1.3))   # zoom min, max\n",
        "    image = zoom.augment_image(image)\n",
        "    return image\n",
        "\n",
        "def pan(image):\n",
        "    pan = iaa.Affine(translate_percent={ \"x\": (-0.1, 0.1), \"y\": (-0.1, 0.1)})    # +-10% translation for x, y axis\n",
        "    image = pan.augment_image(image)\n",
        "    return image\n",
        "\n",
        "def img_random_brigthness(image):\n",
        "    brightness = iaa.Multiply( (0.2, 1.2) )    # multiplies the pixel intensities with a random number between the limits.\n",
        "    image = brightness.augment_image(image)\n",
        "    return image\n",
        "\n",
        "def random_augment(image):\n",
        "    if np.random.rand() < 0.5:   # 50% percent is true\n",
        "        image = pan(image)\n",
        "    if np.random.rand() < 0.5:   # 50% percent is true\n",
        "        image = zoom(image)\n",
        "    if np.random.rand() < 0.5:   # 50% percent is true\n",
        "        image = img_random_brigthness(image)\n",
        "    if np.random.rand() < 0.5:\n",
        "        image = sharpen(image)\n",
        "    return image\n",
        "\n",
        "def batch_aug_gen_proc(X_train, y_train,  batch_size):\n",
        "    new_X_train = np.zeros((X_train.shape[0] + batch_size, X_train.shape[1], X_train.shape[2], X_train.shape[3]), dtype=np.uint8)\n",
        "    new_y_train = np.zeros((y_train.shape[0] + batch_size))\n",
        "\n",
        "    new_X_train[:X_train.shape[0]] = X_train\n",
        "    new_y_train[:y_train.shape[0]] = y_train\n",
        "    \n",
        "    for i in range(batch_size):\n",
        "        random_index = randint(0, X_train.shape[0]-1)\n",
        "        new_X_train[X_train.shape[0] + i] = random_augment(X_train[random_index])\n",
        "        new_y_train[X_train.shape[0] + i] = y_train[random_index]\n",
        "        \n",
        "    return new_X_train, new_y_train\n",
        "\n",
        "def alpha_beta_auto_correction(img):\n",
        "    inputRange = np.amax(img) - np.amin(img)\n",
        "    wantedrange = 255.0\n",
        "    alpha = wantedrange / inputRange\n",
        "    beta = - alpha * np.amin(img)\n",
        "    return (img * alpha + beta).astype(\"uint8\")\n",
        "\n",
        "def preprocess_multiple_images(image_list):\n",
        "    output = np.zeros((image_list.shape[0], image_list.shape[1], image_list.shape[2], 1))\n",
        "    \n",
        "    for i in range(len(image_list)):\n",
        "        image = image_list[i]\n",
        "        image = cv2.cvtColor(image, cv2.COLOR_RGB2GRAY)\n",
        "        image = alpha_beta_auto_correction(image) \n",
        "\n",
        "        # image is not normalized\n",
        "        if np.max(image) > 1 :\n",
        "            image = image / 255\n",
        "        try:\n",
        "            output[i] = image.reshape((image_list.shape[1], image_list.shape[2]), image.shape[3])\n",
        "        except:\n",
        "            output[i] = image.reshape(32, 32, 1) # (image_list.shape[1], image_list.shape[2]), 1)\n",
        "    return output\n",
        "\n",
        "def preprocess_single_images(input_image):\n",
        "    image = np.copy(input_image[0])\n",
        "    image = cv2.resize(image, (32, 32))\n",
        "    image = cv2.cvtColor(image, cv2.COLOR_RGB2GRAY)\n",
        "    image = alpha_beta_auto_correction(image) \n",
        "\n",
        "    # image is not normalized\n",
        "    if np.max(image) > 1 :\n",
        "        image = image / 255\n",
        "    try:\n",
        "        output = image.reshape((image_list.shape[1], image_list.shape[2]), image.shape[3])\n",
        "    except:\n",
        "        output = image.reshape(32, 32, 1)\n",
        "    return output\n",
        "\n",
        "# X_train, y_train = train['features'], train['labels']\n",
        "# print(X_train.shape)\n",
        "\n",
        "# X_train, y_train = batch_aug_gen_proc(X_train, y_train, 10000)\n",
        "# print(X_train.shape)\n",
        "# X_train_temp = preprocess_multiple_images(X_train)\n"
      ],
      "execution_count": 0,
      "outputs": []
    },
    {
      "cell_type": "code",
      "metadata": {
        "id": "YC2UYz-YBp0L",
        "colab_type": "code",
        "colab": {
          "base_uri": "https://localhost:8080/",
          "height": 356
        },
        "outputId": "9e094093-b5c6-4939-91c2-fa78dfef0896"
      },
      "source": [
        "# rate = 0.0005\n",
        "rate = 0.001\n",
        "EPOCHS = 15\n",
        "BATCH_SIZE = 128\n",
        "\n",
        "logits = LeNet(x, keep_prob)\n",
        "cross_entropy = tf.nn.softmax_cross_entropy_with_logits(labels=one_hot_y, logits=logits)\n",
        "loss_operation = tf.reduce_mean(cross_entropy)\n",
        "optimizer = tf.train.AdamOptimizer(learning_rate = rate)\n",
        "training_operation = optimizer.minimize(loss_operation)\n",
        "\n",
        "# X_train, y_train = shuffle(X_train, y_train)\n",
        "\n",
        "# reset X_train values\n",
        "X_train, y_train = train['features'], train['labels']\n",
        "X_valid, y_valid = valid['features'], valid['labels']\n",
        "\n",
        "X_train, y_train = shuffle(X_train, y_train)\n",
        "# X_train, y_train = batch_aug_gen_proc(X_train, y_train, 10000)\n",
        "# X_train = preprocess_multiple_images(X_train)\n",
        "X_valid = preprocess_multiple_images(X_valid)"
      ],
      "execution_count": 12,
      "outputs": [
        {
          "output_type": "stream",
          "text": [
            "WARNING:tensorflow:From /usr/local/lib/python3.6/dist-packages/tensorflow/python/framework/op_def_library.py:263: colocate_with (from tensorflow.python.framework.ops) is deprecated and will be removed in a future version.\n",
            "Instructions for updating:\n",
            "Colocations handled automatically by placer.\n",
            "WARNING:tensorflow:From /usr/local/lib/python3.6/dist-packages/tensorflow/contrib/layers/python/layers/layers.py:1624: flatten (from tensorflow.python.layers.core) is deprecated and will be removed in a future version.\n",
            "Instructions for updating:\n",
            "Use keras.layers.flatten instead.\n",
            "WARNING:tensorflow:From <ipython-input-9-acf1a2188382>:47: calling dropout (from tensorflow.python.ops.nn_ops) with keep_prob is deprecated and will be removed in a future version.\n",
            "Instructions for updating:\n",
            "Please use `rate` instead of `keep_prob`. Rate should be set to `rate = 1 - keep_prob`.\n",
            "WARNING:tensorflow:From <ipython-input-12-6d8e7fe31ac5>:6: softmax_cross_entropy_with_logits (from tensorflow.python.ops.nn_ops) is deprecated and will be removed in a future version.\n",
            "Instructions for updating:\n",
            "\n",
            "Future major versions of TensorFlow will allow gradients to flow\n",
            "into the labels input on backprop by default.\n",
            "\n",
            "See `tf.nn.softmax_cross_entropy_with_logits_v2`.\n",
            "\n"
          ],
          "name": "stdout"
        }
      ]
    },
    {
      "cell_type": "code",
      "metadata": {
        "id": "P6581ukaB1Cj",
        "colab_type": "code",
        "colab": {}
      },
      "source": [
        "correct_prediction = tf.equal(tf.argmax(logits, 1), tf.argmax(one_hot_y, 1))\n",
        "accuracy_operation = tf.reduce_mean(tf.cast(correct_prediction, tf.float32))\n",
        "saver = tf.train.Saver()\n",
        "\n",
        "def evaluate(X_data, y_data):\n",
        "    num_examples = len(X_data)\n",
        "    total_accuracy = 0\n",
        "    sess = tf.get_default_session()\n",
        "    for offset in range(0, num_examples, BATCH_SIZE):\n",
        "        batch_x, batch_y = X_data[offset:offset+BATCH_SIZE], y_data[offset:offset+BATCH_SIZE]\n",
        "        accuracy = sess.run(accuracy_operation, feed_dict={x: batch_x, y: batch_y})\n",
        "        total_accuracy += (accuracy * len(batch_x))\n",
        "    return total_accuracy / num_examples"
      ],
      "execution_count": 0,
      "outputs": []
    },
    {
      "cell_type": "code",
      "metadata": {
        "id": "RrmXHvZ1B8R1",
        "colab_type": "code",
        "outputId": "5ffbe38b-a1a2-4eea-df36-792c68f16fa3",
        "colab": {
          "base_uri": "https://localhost:8080/",
          "height": 917
        }
      },
      "source": [
        "with tf.Session() as sess:\n",
        "    sess.run(tf.global_variables_initializer())\n",
        "    num_examples = len(X_train)\n",
        "    \n",
        "    print(\"Training...\")\n",
        "    print()\n",
        "    for i in range(EPOCHS):\n",
        "        X_train, y_train = shuffle(X_train, y_train)\n",
        "        for offset in range(0, num_examples, BATCH_SIZE):\n",
        "            end = offset + BATCH_SIZE\n",
        "            batch_x, batch_y = batch_aug_gen_proc(X_train[offset:end], y_train[offset:end], np.uint16 ( BATCH_SIZE / 5))\n",
        "            batch_x = preprocess_multiple_images(batch_x)\n",
        "#             batch_x, batch_y = X_train[offset:end], y_train[offset:end]\n",
        "            sess.run(training_operation, feed_dict={x: batch_x, y: batch_y, keep_prob: 0.5})\n",
        "            \n",
        "        validation_accuracy = evaluate(X_valid, y_valid)\n",
        "        print(\"EPOCH {} ...\".format(i+1))\n",
        "        print(\"Validation Accuracy = {:.3f}\".format(validation_accuracy))\n",
        "        print()\n",
        "        \n",
        "    saver.save(sess, './lenet')\n",
        "    print(\"Model saved\")"
      ],
      "execution_count": 14,
      "outputs": [
        {
          "output_type": "stream",
          "text": [
            "Training...\n",
            "\n",
            "EPOCH 1 ...\n",
            "Validation Accuracy = 0.504\n",
            "\n",
            "EPOCH 2 ...\n",
            "Validation Accuracy = 0.749\n",
            "\n",
            "EPOCH 3 ...\n",
            "Validation Accuracy = 0.855\n",
            "\n",
            "EPOCH 4 ...\n",
            "Validation Accuracy = 0.909\n",
            "\n",
            "EPOCH 5 ...\n",
            "Validation Accuracy = 0.931\n",
            "\n",
            "EPOCH 6 ...\n",
            "Validation Accuracy = 0.935\n",
            "\n",
            "EPOCH 7 ...\n",
            "Validation Accuracy = 0.950\n",
            "\n",
            "EPOCH 8 ...\n",
            "Validation Accuracy = 0.959\n",
            "\n",
            "EPOCH 9 ...\n",
            "Validation Accuracy = 0.959\n",
            "\n",
            "EPOCH 10 ...\n",
            "Validation Accuracy = 0.965\n",
            "\n",
            "EPOCH 11 ...\n",
            "Validation Accuracy = 0.972\n",
            "\n",
            "EPOCH 12 ...\n",
            "Validation Accuracy = 0.973\n",
            "\n",
            "EPOCH 13 ...\n",
            "Validation Accuracy = 0.975\n",
            "\n",
            "EPOCH 14 ...\n",
            "Validation Accuracy = 0.980\n",
            "\n",
            "EPOCH 15 ...\n",
            "Validation Accuracy = 0.978\n",
            "\n",
            "Model saved\n"
          ],
          "name": "stdout"
        }
      ]
    },
    {
      "cell_type": "markdown",
      "metadata": {
        "id": "AeNcwgC7kEI3",
        "colab_type": "text"
      },
      "source": [
        "---\n",
        "\n",
        "## Step 3: Test a Model on New Images\n",
        "\n",
        "To give yourself more insight into how your model is working, download at least five pictures of German traffic signs from the web and use your model to predict the traffic sign type.\n",
        "\n",
        "You may find `signnames.csv` useful as it contains mappings from the class id (integer) to the actual sign name."
      ]
    },
    {
      "cell_type": "code",
      "metadata": {
        "id": "ahf6qWjH6W2f",
        "colab_type": "code",
        "colab": {
          "base_uri": "https://localhost:8080/",
          "height": 131
        },
        "outputId": "eea8d70f-4568-4aae-81d0-b7022987247a"
      },
      "source": [
        "X_test, y_test = test['features'], test['labels']\n",
        "\n",
        "X_test = preprocess_multiple_images(X_test)\n",
        "with tf.Session() as sess:\n",
        "    saver.restore(sess, tf.train.latest_checkpoint('.'))\n",
        "\n",
        "    test_accuracy = evaluate(X_test, y_test)\n",
        "    print(\"Test Accuracy = {:.3f}\".format(test_accuracy))"
      ],
      "execution_count": 15,
      "outputs": [
        {
          "output_type": "stream",
          "text": [
            "WARNING:tensorflow:From /usr/local/lib/python3.6/dist-packages/tensorflow/python/training/saver.py:1266: checkpoint_exists (from tensorflow.python.training.checkpoint_management) is deprecated and will be removed in a future version.\n",
            "Instructions for updating:\n",
            "Use standard file APIs to check for files with this prefix.\n",
            "INFO:tensorflow:Restoring parameters from ./lenet\n",
            "Test Accuracy = 0.959\n"
          ],
          "name": "stdout"
        }
      ]
    },
    {
      "cell_type": "markdown",
      "metadata": {
        "id": "egalENx4kEI6",
        "colab_type": "text"
      },
      "source": [
        "### Load and Output the Images"
      ]
    },
    {
      "cell_type": "code",
      "metadata": {
        "id": "KjlevKHYkEI8",
        "colab_type": "code",
        "colab": {
          "base_uri": "https://localhost:8080/",
          "height": 489
        },
        "outputId": "062c876e-7590-4ed2-c392-efdde30c8639"
      },
      "source": [
        "### Load the images and plot them here.\n",
        "### Feel free to use as many code cells as needed.\n",
        "cols = 10\n",
        "\n",
        "# f, ax = plt.subplots(n_classes, cols, figsize=(10, 60))\n",
        "# images = []\n",
        "# for i in range(n_classes):\n",
        "random_indexes = [randint(0, len(X_train)-1) for p in range(0, 1)]\n",
        "\n",
        "X_train, y_train = train['features'], train['labels']\n",
        "\n",
        "# X_selected = X_train[y_train == 5]\n",
        "# y_selected = y_train[y_train == 5]\n",
        "\n",
        "\n",
        "# plt.imshow(X_selected[0])\n",
        "\n",
        "# print(X_selected)\n",
        "\n",
        "X_disp_test = X_train[random_indexes]\n",
        "y_disp_test = y_train[random_indexes]\n",
        "# loc_processed = preprocess_multiple_images(X_train)\n",
        "\n",
        "# print(loc_processed[0][:][:][0])\n",
        "\n",
        "def LeNet_predict(X_input):\n",
        "    with tf.Session() as sess:\n",
        "        sess.run(tf.global_variables_initializer())\n",
        "        saver.restore(sess, tf.train.latest_checkpoint('.'))\n",
        "        batch_x = X_input\n",
        "        batch_x = [preprocess_single_images(batch_x)]\n",
        "        logits__ = sess.run(logits, feed_dict={x: batch_x}) #(x, keep_prob)\n",
        "    return np.argmax(logits__, axis=1) \n",
        "    \n",
        "predicted_label = LeNet_predict(X_disp_test)\n",
        "\n",
        "\n",
        "plt.imshow( alpha_beta_auto_correction(X_disp_test[0]))\n",
        "print(class_labels['SignName'][predicted_label[0]])\n",
        "print()\n",
        "# plt.title(label=class_labels['SignName'][predicted_label] )\n",
        "    \n",
        "    \n",
        "    \n",
        "#     print(logits__.shape)\n",
        "# predict_results = estimator.predict(predict_input_fn)\n",
        "# for idx, prediction in enumerate(predict_results):\n",
        "#     print(idx)\n",
        "#     for key in prediction:\n",
        "#         print(\"...{}: {}\".format(key, prediction[key]))\n",
        "    \n",
        "    \n",
        "#     for j in range(cols):\n",
        "#         ax[i][j].imshow( x_current_class[random_indexes[j]] )\n",
        "#         ax[i][j].axis('off')\n",
        "#         if j == cols // 2:\n",
        "#             temp_title = \"%d %s\" % (i, class_labels['SignName'][i])\n",
        "#             ax[i][j].set_title(temp_title)\n"
      ],
      "execution_count": 16,
      "outputs": [
        {
          "output_type": "stream",
          "text": [
            "INFO:tensorflow:Restoring parameters from ./lenet\n",
            "Double curve\n",
            "\n"
          ],
          "name": "stdout"
        },
        {
          "output_type": "display_data",
          "data": {
            "image/png": "[encoded data removed]",
            "text/plain": [
              "<Figure size 640x480 with 1 Axes>"
            ]
          },
          "metadata": {
            "tags": []
          }
        }
      ]
    },
    {
      "cell_type": "markdown",
      "metadata": {
        "id": "JcSXacB_kEJD",
        "colab_type": "text"
      },
      "source": [
        "### Predict the Sign Type for Each Image"
      ]
    },
    {
      "cell_type": "code",
      "metadata": {
        "id": "OEqg2-NekEJE",
        "colab_type": "code",
        "colab": {}
      },
      "source": [
        "### Run the predictions here and use the model to output the prediction for each image.\n",
        "### Make sure to pre-process the images with the same pre-processing pipeline used earlier.\n",
        "### Feel free to use as many code cells as needed."
      ],
      "execution_count": 0,
      "outputs": []
    },
    {
      "cell_type": "markdown",
      "metadata": {
        "id": "BTz_FMQAkEJJ",
        "colab_type": "text"
      },
      "source": [
        "### Analyze Performance"
      ]
    },
    {
      "cell_type": "code",
      "metadata": {
        "id": "_u5bwrTIkEJL",
        "colab_type": "code",
        "colab": {}
      },
      "source": [
        "### Calculate the accuracy for these 5 new images. \n",
        "### For example, if the model predicted 1 out of 5 signs correctly, it's 20% accurate on these new images."
      ],
      "execution_count": 0,
      "outputs": []
    },
    {
      "cell_type": "markdown",
      "metadata": {
        "id": "I6ixUoAkkEJR",
        "colab_type": "text"
      },
      "source": [
        "### Output Top 5 Softmax Probabilities For Each Image Found on the Web"
      ]
    },
    {
      "cell_type": "markdown",
      "metadata": {
        "id": "PeDQ2HqqkEJT",
        "colab_type": "text"
      },
      "source": [
        "For each of the new images, print out the model's softmax probabilities to show the **certainty** of the model's predictions (limit the output to the top 5 probabilities for each image). [`tf.nn.top_k`](https://www.tensorflow.org/versions/r0.12/api_docs/python/nn.html#top_k) could prove helpful here. \n",
        "\n",
        "The example below demonstrates how tf.nn.top_k can be used to find the top k predictions for each image.\n",
        "\n",
        "`tf.nn.top_k` will return the values and indices (class ids) of the top k predictions. So if k=3, for each sign, it'll return the 3 largest probabilities (out of a possible 43) and the correspoding class ids.\n",
        "\n",
        "Take this numpy array as an example. The values in the array represent predictions. The array contains softmax probabilities for five candidate images with six possible classes. `tf.nn.top_k` is used to choose the three classes with the highest probability:\n",
        "\n",
        "```\n",
        "# (5, 6) array\n",
        "a = np.array([[ 0.24879643,  0.07032244,  0.12641572,  0.34763842,  0.07893497,\n",
        "         0.12789202],\n",
        "       [ 0.28086119,  0.27569815,  0.08594638,  0.0178669 ,  0.18063401,\n",
        "         0.15899337],\n",
        "       [ 0.26076848,  0.23664738,  0.08020603,  0.07001922,  0.1134371 ,\n",
        "         0.23892179],\n",
        "       [ 0.11943333,  0.29198961,  0.02605103,  0.26234032,  0.1351348 ,\n",
        "         0.16505091],\n",
        "       [ 0.09561176,  0.34396535,  0.0643941 ,  0.16240774,  0.24206137,\n",
        "         0.09155967]])\n",
        "```\n",
        "\n",
        "Running it through `sess.run(tf.nn.top_k(tf.constant(a), k=3))` produces:\n",
        "\n",
        "```\n",
        "TopKV2(values=array([[ 0.34763842,  0.24879643,  0.12789202],\n",
        "       [ 0.28086119,  0.27569815,  0.18063401],\n",
        "       [ 0.26076848,  0.23892179,  0.23664738],\n",
        "       [ 0.29198961,  0.26234032,  0.16505091],\n",
        "       [ 0.34396535,  0.24206137,  0.16240774]]), indices=array([[3, 0, 5],\n",
        "       [0, 1, 4],\n",
        "       [0, 5, 1],\n",
        "       [1, 3, 5],\n",
        "       [1, 4, 3]], dtype=int32))\n",
        "```\n",
        "\n",
        "Looking just at the first row we get `[ 0.34763842,  0.24879643,  0.12789202]`, you can confirm these are the 3 largest probabilities in `a`. You'll also notice `[3, 0, 5]` are the corresponding indices."
      ]
    },
    {
      "cell_type": "code",
      "metadata": {
        "id": "Maao9t5skEJc",
        "colab_type": "code",
        "colab": {}
      },
      "source": [
        "### Print out the top five softmax probabilities for the predictions on the German traffic sign images found on the web. \n",
        "### Feel free to use as many code cells as needed."
      ],
      "execution_count": 0,
      "outputs": []
    },
    {
      "cell_type": "markdown",
      "metadata": {
        "id": "zzKrPeEtkEJj",
        "colab_type": "text"
      },
      "source": [
        "### Project Writeup\n",
        "\n",
        "Once you have completed the code implementation, document your results in a project writeup using this [template](https://github.com/udacity/CarND-Traffic-Sign-Classifier-Project/blob/master/writeup_template.md) as a guide. The writeup can be in a markdown or pdf file. "
      ]
    },
    {
      "cell_type": "markdown",
      "metadata": {
        "id": "Hllc8-RskEJj",
        "colab_type": "text"
      },
      "source": [
        "> **Note**: Once you have completed all of the code implementations and successfully answered each question above, you may finalize your work by exporting the iPython Notebook as an HTML document. You can do this by using the menu above and navigating to  \\n\",\n",
        "    \"**File -> Download as -> HTML (.html)**. Include the finished document along with this notebook as your submission."
      ]
    },
    {
      "cell_type": "markdown",
      "metadata": {
        "id": "Hu0j-tDqkEJk",
        "colab_type": "text"
      },
      "source": [
        "---\n",
        "\n",
        "## Step 4 (Optional): Visualize the Neural Network's State with Test Images\n",
        "\n",
        " This Section is not required to complete but acts as an additional excersise for understaning the output of a neural network's weights. While neural networks can be a great learning device they are often referred to as a black box. We can understand what the weights of a neural network look like better by plotting their feature maps. After successfully training your neural network you can see what it's feature maps look like by plotting the output of the network's weight layers in response to a test stimuli image. From these plotted feature maps, it's possible to see what characteristics of an image the network finds interesting. For a sign, maybe the inner network feature maps react with high activation to the sign's boundary outline or to the contrast in the sign's painted symbol.\n",
        "\n",
        " Provided for you below is the function code that allows you to get the visualization output of any tensorflow weight layer you want. The inputs to the function should be a stimuli image, one used during training or a new one you provided, and then the tensorflow variable name that represents the layer's state during the training process, for instance if you wanted to see what the [LeNet lab's](https://classroom.udacity.com/nanodegrees/nd013/parts/fbf77062-5703-404e-b60c-95b78b2f3f9e/modules/6df7ae49-c61c-4bb2-a23e-6527e69209ec/lessons/601ae704-1035-4287-8b11-e2c2716217ad/concepts/d4aca031-508f-4e0b-b493-e7b706120f81) feature maps looked like for it's second convolutional layer you could enter conv2 as the tf_activation variable.\n",
        "\n",
        "For an example of what feature map outputs look like, check out NVIDIA's results in their paper [End-to-End Deep Learning for Self-Driving Cars](https://devblogs.nvidia.com/parallelforall/deep-learning-self-driving-cars/) in the section Visualization of internal CNN State. NVIDIA was able to show that their network's inner weights had high activations to road boundary lines by comparing feature maps from an image with a clear path to one without. Try experimenting with a similar test to show that your trained network's weights are looking for interesting features, whether it's looking at differences in feature maps from images with or without a sign, or even what feature maps look like in a trained network vs a completely untrained one on the same sign image.\n",
        "\n",
        "<figure>\n",
        " <img src=\"https://github.com/bessszilard/Udacity-Self-Driving-Car-Engineer-Nanodegree-Program/blob/master/Projet-3-Traffic-Sign-Classifier/visualize_cnn.png?raw=1\" width=\"380\" alt=\"Combined Image\" />\n",
        " <figcaption>\n",
        " <p></p> \n",
        " <p style=\"text-align: center;\"> Your output should look something like this (above)</p> \n",
        " </figcaption>\n",
        "</figure>\n",
        " <p></p> \n"
      ]
    },
    {
      "cell_type": "code",
      "metadata": {
        "id": "kbUlBxbHkEJn",
        "colab_type": "code",
        "colab": {}
      },
      "source": [
        "### Visualize your network's feature maps here.\n",
        "### Feel free to use as many code cells as needed.\n",
        "\n",
        "# image_input: the test image being fed into the network to produce the feature maps\n",
        "# tf_activation: should be a tf variable name used during your training procedure that represents the calculated state of a specific weight layer\n",
        "# activation_min/max: can be used to view the activation contrast in more detail, by default matplot sets min and max to the actual min and max values of the output\n",
        "# plt_num: used to plot out multiple different weight feature map sets on the same block, just extend the plt number for each new feature map entry\n",
        "\n",
        "def outputFeatureMap(image_input, tf_activation, activation_min=-1, activation_max=-1 ,plt_num=1):\n",
        "    # Here make sure to preprocess your image_input in a way your network expects\n",
        "    # with size, normalization, ect if needed\n",
        "    # image_input =\n",
        "    # Note: x should be the same name as your network's tensorflow data placeholder variable\n",
        "    # If you get an error tf_activation is not defined it may be having trouble accessing the variable from inside a function\n",
        "    activation = tf_activation.eval(session=sess,feed_dict={x : image_input})\n",
        "    featuremaps = activation.shape[3]\n",
        "    plt.figure(plt_num, figsize=(15,15))\n",
        "    for featuremap in range(featuremaps):\n",
        "        plt.subplot(6,8, featuremap+1) # sets the number of feature maps to show on each row and column\n",
        "        plt.title('FeatureMap ' + str(featuremap)) # displays the feature map number\n",
        "        if activation_min != -1 & activation_max != -1:\n",
        "            plt.imshow(activation[0,:,:, featuremap], interpolation=\"nearest\", vmin =activation_min, vmax=activation_max, cmap=\"gray\")\n",
        "        elif activation_max != -1:\n",
        "            plt.imshow(activation[0,:,:, featuremap], interpolation=\"nearest\", vmax=activation_max, cmap=\"gray\")\n",
        "        elif activation_min !=-1:\n",
        "            plt.imshow(activation[0,:,:, featuremap], interpolation=\"nearest\", vmin=activation_min, cmap=\"gray\")\n",
        "        else:\n",
        "            plt.imshow(activation[0,:,:, featuremap], interpolation=\"nearest\", cmap=\"gray\")"
      ],
      "execution_count": 0,
      "outputs": []
    },
    {
      "cell_type": "code",
      "metadata": {
        "id": "g-gt_17rEeoV",
        "colab_type": "code",
        "colab": {}
      },
      "source": [
        ""
      ],
      "execution_count": 0,
      "outputs": []
    }
  ]
}